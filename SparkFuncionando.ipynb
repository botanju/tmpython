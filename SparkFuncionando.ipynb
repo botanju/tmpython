{
 "cells": [
  {
   "cell_type": "code",
   "execution_count": 1,
   "metadata": {
    "collapsed": false
   },
   "outputs": [],
   "source": [
    "import os\n",
    "import sys\n",
    " \n",
    "spark_home = os.environ.get('SPARK_HOME', None)\n",
    "if not spark_home:\n",
    "    raise ValueError('SPARK_HOME environment variable is not set')\n",
    "sys.path.insert(0, os.path.join(spark_home, 'python'))\n",
    "sys.path.insert(0, os.path.join(spark_home, 'python/lib/py4j-0.10.3-src.zip'))\n",
    "#execfile(os.path.join(spark_home, 'python/pyspark/shell.py'))"
   ]
  },
  {
   "cell_type": "code",
   "execution_count": 2,
   "metadata": {
    "collapsed": false
   },
   "outputs": [],
   "source": [
    "from pyspark import SparkContext\n",
    "from pyspark import SparkConf\n",
    "\n",
    "sc = SparkContext(\"local\", \"Simple App\")\n",
    "\n",
    "filename = os.path.join(\"testew2v\")\n",
    "rawRDD = sc.textFile(filename,2)\n",
    "rawRDD = rawRDD.map(lambda x: x.split())"
   ]
  },
  {
   "cell_type": "code",
   "execution_count": 3,
   "metadata": {
    "collapsed": false
   },
   "outputs": [
    {
     "name": "stdout",
     "output_type": "stream",
     "text": [
      "[(u'rapaz', 0.99849511154779258), (u'golaco', 0.99843899110132428), (u'lindos', 0.99433253760987939), (u'dilma', 0.99178456025454365), (u'simplesmente', 0.99074926572068767), (u'#cerimoniadeabertura', 0.98931315913961526), (u'tarde', 0.9888593647442574), (u'teve', 0.98863691005075471), (u'ingles', 0.98828858626590965), (u'costa', 0.98771975538516055)]\n",
      "[(u'saiba', 0.99031064488257947), (u'feminina', 0.98974228670003028), (u'#globo', 0.98630768316648953), (u'gesto', 0.98484741725395042), (u'@timebrasil', 0.98339301904776666), (u'contra', 0.98334494692690699), (u'@selecaoportugal:', 0.98230935328264712), (u'@algumgustavo:', 0.98008493907240879), (u'1000', 0.97892902826670325), (u'sonhos.', 0.97862560232361329)]\n"
     ]
    }
   ],
   "source": [
    "from pyspark.mllib.feature import Word2Vec\n",
    "\n",
    "model = Word2Vec().setVectorSize(5).setSeed(42).fit(rawRDD)\n",
    "\n",
    "print model.findSynonyms(u'#masterchefbr', 10)\n",
    "print model.findSynonyms(u'#voleibol', 10)"
   ]
  },
  {
   "cell_type": "code",
   "execution_count": 3,
   "metadata": {
    "collapsed": false
   },
   "outputs": [],
   "source": [
    "import gensim\n",
    "\n",
    "modelcbow = gensim.models.Word2Vec(rawRDD.collect(), size=100, window=5, min_count=5, workers=4, sg=0)\n",
    "modelskip = gensim.models.Word2Vec(rawRDD.collect(), size=100, window=5, min_count=5, workers=4, sg=1)\n"
   ]
  },
  {
   "cell_type": "code",
   "execution_count": 14,
   "metadata": {
    "collapsed": false
   },
   "outputs": [
    {
     "name": "stdout",
     "output_type": "stream",
     "text": [
      "[(u'#bra', 0.9898700714111328), (u'#futebol', 0.935441255569458), (u'#selecaofeminina', 0.9328400492668152), (u'x', 0.921993613243103), (u'#judo', 0.9152129888534546), (u'#somostodosolimpicos', 0.8973482251167297), (u'https://t.co/c1jbdkoalk', 0.89432293176651), (u'#irq', 0.8923399448394775), (u'https://t.co/seroorfaow', 0.8879166841506958), (u'#den', 0.8852719068527222)]\n",
      "[(u'#bra', 0.9052468538284302), (u'#futebol', 0.8713874816894531), (u'#somostodosolimpicos', 0.8505641222000122), (u'#timebrasil', 0.845442533493042), (u'masculino', 0.8318146467208862), (u'#jogosolimpicos', 0.8297672271728516), (u'#loverio', 0.8246409893035889), (u'#basquetebol', 0.8220503330230713), (u'volei', 0.8171325922012329), (u'#voleibol', 0.8166132569313049)]\n"
     ]
    }
   ],
   "source": [
    "palavra = '#rio2016'\n",
    "print modelcbow.most_similar(positive=[palavra], negative=[])\n",
    "print modelskip.most_similar(positive=[palavra], negative=[])"
   ]
  },
  {
   "cell_type": "code",
   "execution_count": null,
   "metadata": {
    "collapsed": true
   },
   "outputs": [],
   "source": []
  }
 ],
 "metadata": {
  "anaconda-cloud": {},
  "kernelspec": {
   "display_name": "Python [conda root]",
   "language": "python",
   "name": "conda-root-py"
  },
  "language_info": {
   "codemirror_mode": {
    "name": "ipython",
    "version": 2
   },
   "file_extension": ".py",
   "mimetype": "text/x-python",
   "name": "python",
   "nbconvert_exporter": "python",
   "pygments_lexer": "ipython2",
   "version": "2.7.12"
  }
 },
 "nbformat": 4,
 "nbformat_minor": 1
}
